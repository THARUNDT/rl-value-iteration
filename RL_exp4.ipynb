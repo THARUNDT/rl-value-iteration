{
  "cells": [
    {
      "cell_type": "code",
      "execution_count": 1,
      "metadata": {
        "colab": {
          "base_uri": "https://localhost:8080/"
        },
        "id": "1Eakd8w8gUnV",
        "outputId": "a7a4ad6c-e1af-4955-85e0-a5c588a0188f"
      },
      "outputs": [
        {
          "output_type": "stream",
          "name": "stdout",
          "text": [
            "Collecting gym-walk\n",
            "  Cloning https://github.com/mimoralea/gym-walk to /tmp/pip-install-yiygllpf/gym-walk_2da9a1acc95340b7b244f7ceb2bb9109\n",
            "  Running command git clone --filter=blob:none --quiet https://github.com/mimoralea/gym-walk /tmp/pip-install-yiygllpf/gym-walk_2da9a1acc95340b7b244f7ceb2bb9109\n",
            "  Resolved https://github.com/mimoralea/gym-walk to commit b915b94cf2ad16f8833a1ad92ea94e88159279f5\n",
            "  Preparing metadata (setup.py) ... \u001b[?25l\u001b[?25hdone\n",
            "Requirement already satisfied: gym in /usr/local/lib/python3.12/dist-packages (from gym-walk) (0.25.2)\n",
            "Requirement already satisfied: numpy>=1.18.0 in /usr/local/lib/python3.12/dist-packages (from gym->gym-walk) (2.0.2)\n",
            "Requirement already satisfied: cloudpickle>=1.2.0 in /usr/local/lib/python3.12/dist-packages (from gym->gym-walk) (3.1.1)\n",
            "Requirement already satisfied: gym-notices>=0.0.4 in /usr/local/lib/python3.12/dist-packages (from gym->gym-walk) (0.1.0)\n",
            "Building wheels for collected packages: gym-walk\n",
            "  Building wheel for gym-walk (setup.py) ... \u001b[?25l\u001b[?25hdone\n",
            "  Created wheel for gym-walk: filename=gym_walk-0.0.2-py3-none-any.whl size=5377 sha256=fe00a7e7fb8a38d8ba03af48e1722489ad5cf5ae66a0aa9a070546d7f51100b2\n",
            "  Stored in directory: /tmp/pip-ephem-wheel-cache-og7hs_de/wheels/bf/23/e5/a94be4a90dd18f7ce958c21f192276cb01ef0daaf2bc66583b\n",
            "Successfully built gym-walk\n",
            "Installing collected packages: gym-walk\n",
            "Successfully installed gym-walk-0.0.2\n"
          ]
        }
      ],
      "source": [
        "pip install git+https://github.com/mimoralea/gym-walk#egg=gym-walk\n"
      ]
    },
    {
      "cell_type": "code",
      "execution_count": 12,
      "metadata": {
        "id": "Dm4xTpc3gkto"
      },
      "outputs": [],
      "source": [
        "import warnings ; warnings.filterwarnings('ignore')\n",
        "\n",
        "import gym, gym_walk\n",
        "import numpy as np\n",
        "\n",
        "import random\n",
        "import warnings\n",
        "\n",
        "warnings.filterwarnings('ignore', category=DeprecationWarning)\n",
        "np.set_printoptions(suppress=True)\n",
        "random.seed(123); np.random.seed(123)"
      ]
    },
    {
      "cell_type": "code",
      "execution_count": null,
      "metadata": {
        "id": "XDHobGcwgrKl"
      },
      "outputs": [],
      "source": [
        "def print_policy(pi, P, action_symbols=('<', 'v', '>', '^'), n_cols=4, title='Policy:'):\n",
        "    print(title)\n",
        "    arrs = {k:v for k,v in enumerate(action_symbols)}\n",
        "    for s in range(len(P)):\n",
        "        a = pi(s)\n",
        "        print(\"| \", end=\"\")\n",
        "        if np.all([done for action in P[s].values() for _, _, _, done in action]):\n",
        "            print(\"\".rjust(9), end=\" \")\n",
        "        else:\n",
        "            print(str(s).zfill(2), arrs[a].rjust(6), end=\" \")\n",
        "        if (s + 1) % n_cols == 0: print(\"|\")"
      ]
    },
    {
      "cell_type": "code",
      "execution_count": 15,
      "metadata": {
        "id": "0PlaLc36gwuv"
      },
      "outputs": [],
      "source": [
        "def print_state_value_function(V, P, n_cols=4, prec=3, title='State-value function:'):\n",
        "    print(title)\n",
        "    for s in range(len(P)):\n",
        "        v = V[s]\n",
        "        print(\"| \", end=\"\")\n",
        "        if np.all([done for action in P[s].values() for _, _, _, done in action]):\n",
        "            print(\"\".rjust(9), end=\" \")\n",
        "        else:\n",
        "            print(str(s).zfill(2), '{}'.format(np.round(v, prec)).rjust(6), end=\" \")\n",
        "        if (s + 1) % n_cols == 0: print(\"|\")"
      ]
    },
    {
      "cell_type": "code",
      "execution_count": 16,
      "metadata": {
        "id": "9dVWi8eRg8pp"
      },
      "outputs": [],
      "source": [
        "def probability_success(env, pi, goal_state, n_episodes=100, max_steps=200):\n",
        "    random.seed(123); np.random.seed(123) ; env.seed(123)\n",
        "    results = []\n",
        "    for _ in range(n_episodes):\n",
        "        state, done, steps = env.reset(), False, 0\n",
        "        while not done and steps < max_steps:\n",
        "            state, _, done, h = env.step(pi(state))\n",
        "            steps += 1\n",
        "        results.append(state == goal_state)\n",
        "    return np.sum(results)/len(results)"
      ]
    },
    {
      "cell_type": "code",
      "execution_count": 17,
      "metadata": {
        "id": "ObeO2Utcg-wh"
      },
      "outputs": [],
      "source": [
        "def mean_return(env, pi, n_episodes=100, max_steps=200):\n",
        "    random.seed(123); np.random.seed(123) ; env.seed(123)\n",
        "    results = []\n",
        "    for _ in range(n_episodes):\n",
        "        state, done, steps = env.reset(), False, 0\n",
        "        results.append(0.0)\n",
        "        while not done and steps < max_steps:\n",
        "            state, reward, done, _ = env.step(pi(state))\n",
        "            results[-1] += reward\n",
        "            steps += 1\n",
        "    return np.mean(results)"
      ]
    },
    {
      "cell_type": "code",
      "execution_count": 18,
      "metadata": {
        "id": "GmPbJ3_xhBDV"
      },
      "outputs": [],
      "source": [
        "envdesc  = ['FSFF','FFHF','FHFF', 'FGFF']\n",
        "env = gym.make('FrozenLake-v1',desc=envdesc)\n",
        "init_state = env.reset()\n",
        "goal_state = 13\n",
        "P = env.P"
      ]
    },
    {
      "cell_type": "code",
      "execution_count": 19,
      "metadata": {
        "colab": {
          "base_uri": "https://localhost:8080/"
        },
        "id": "LKbnFfv3hQKP",
        "outputId": "e43333fc-fd1b-4f01-ca24-4ccf1a95e64d"
      },
      "outputs": [
        {
          "output_type": "execute_result",
          "data": {
            "text/plain": [
              "{0: {0: [(0.3333333333333333, 0, 0.0, False),\n",
              "   (0.3333333333333333, 0, 0.0, False),\n",
              "   (0.3333333333333333, 4, 0.0, False)],\n",
              "  1: [(0.3333333333333333, 0, 0.0, False),\n",
              "   (0.3333333333333333, 4, 0.0, False),\n",
              "   (0.3333333333333333, 1, 0.0, False)],\n",
              "  2: [(0.3333333333333333, 4, 0.0, False),\n",
              "   (0.3333333333333333, 1, 0.0, False),\n",
              "   (0.3333333333333333, 0, 0.0, False)],\n",
              "  3: [(0.3333333333333333, 1, 0.0, False),\n",
              "   (0.3333333333333333, 0, 0.0, False),\n",
              "   (0.3333333333333333, 0, 0.0, False)]},\n",
              " 1: {0: [(0.3333333333333333, 1, 0.0, False),\n",
              "   (0.3333333333333333, 0, 0.0, False),\n",
              "   (0.3333333333333333, 5, 0.0, False)],\n",
              "  1: [(0.3333333333333333, 0, 0.0, False),\n",
              "   (0.3333333333333333, 5, 0.0, False),\n",
              "   (0.3333333333333333, 2, 0.0, False)],\n",
              "  2: [(0.3333333333333333, 5, 0.0, False),\n",
              "   (0.3333333333333333, 2, 0.0, False),\n",
              "   (0.3333333333333333, 1, 0.0, False)],\n",
              "  3: [(0.3333333333333333, 2, 0.0, False),\n",
              "   (0.3333333333333333, 1, 0.0, False),\n",
              "   (0.3333333333333333, 0, 0.0, False)]},\n",
              " 2: {0: [(0.3333333333333333, 2, 0.0, False),\n",
              "   (0.3333333333333333, 1, 0.0, False),\n",
              "   (0.3333333333333333, 6, 0.0, True)],\n",
              "  1: [(0.3333333333333333, 1, 0.0, False),\n",
              "   (0.3333333333333333, 6, 0.0, True),\n",
              "   (0.3333333333333333, 3, 0.0, False)],\n",
              "  2: [(0.3333333333333333, 6, 0.0, True),\n",
              "   (0.3333333333333333, 3, 0.0, False),\n",
              "   (0.3333333333333333, 2, 0.0, False)],\n",
              "  3: [(0.3333333333333333, 3, 0.0, False),\n",
              "   (0.3333333333333333, 2, 0.0, False),\n",
              "   (0.3333333333333333, 1, 0.0, False)]},\n",
              " 3: {0: [(0.3333333333333333, 3, 0.0, False),\n",
              "   (0.3333333333333333, 2, 0.0, False),\n",
              "   (0.3333333333333333, 7, 0.0, False)],\n",
              "  1: [(0.3333333333333333, 2, 0.0, False),\n",
              "   (0.3333333333333333, 7, 0.0, False),\n",
              "   (0.3333333333333333, 3, 0.0, False)],\n",
              "  2: [(0.3333333333333333, 7, 0.0, False),\n",
              "   (0.3333333333333333, 3, 0.0, False),\n",
              "   (0.3333333333333333, 3, 0.0, False)],\n",
              "  3: [(0.3333333333333333, 3, 0.0, False),\n",
              "   (0.3333333333333333, 3, 0.0, False),\n",
              "   (0.3333333333333333, 2, 0.0, False)]},\n",
              " 4: {0: [(0.3333333333333333, 0, 0.0, False),\n",
              "   (0.3333333333333333, 4, 0.0, False),\n",
              "   (0.3333333333333333, 8, 0.0, False)],\n",
              "  1: [(0.3333333333333333, 4, 0.0, False),\n",
              "   (0.3333333333333333, 8, 0.0, False),\n",
              "   (0.3333333333333333, 5, 0.0, False)],\n",
              "  2: [(0.3333333333333333, 8, 0.0, False),\n",
              "   (0.3333333333333333, 5, 0.0, False),\n",
              "   (0.3333333333333333, 0, 0.0, False)],\n",
              "  3: [(0.3333333333333333, 5, 0.0, False),\n",
              "   (0.3333333333333333, 0, 0.0, False),\n",
              "   (0.3333333333333333, 4, 0.0, False)]},\n",
              " 5: {0: [(0.3333333333333333, 1, 0.0, False),\n",
              "   (0.3333333333333333, 4, 0.0, False),\n",
              "   (0.3333333333333333, 9, 0.0, True)],\n",
              "  1: [(0.3333333333333333, 4, 0.0, False),\n",
              "   (0.3333333333333333, 9, 0.0, True),\n",
              "   (0.3333333333333333, 6, 0.0, True)],\n",
              "  2: [(0.3333333333333333, 9, 0.0, True),\n",
              "   (0.3333333333333333, 6, 0.0, True),\n",
              "   (0.3333333333333333, 1, 0.0, False)],\n",
              "  3: [(0.3333333333333333, 6, 0.0, True),\n",
              "   (0.3333333333333333, 1, 0.0, False),\n",
              "   (0.3333333333333333, 4, 0.0, False)]},\n",
              " 6: {0: [(1.0, 6, 0, True)],\n",
              "  1: [(1.0, 6, 0, True)],\n",
              "  2: [(1.0, 6, 0, True)],\n",
              "  3: [(1.0, 6, 0, True)]},\n",
              " 7: {0: [(0.3333333333333333, 3, 0.0, False),\n",
              "   (0.3333333333333333, 6, 0.0, True),\n",
              "   (0.3333333333333333, 11, 0.0, False)],\n",
              "  1: [(0.3333333333333333, 6, 0.0, True),\n",
              "   (0.3333333333333333, 11, 0.0, False),\n",
              "   (0.3333333333333333, 7, 0.0, False)],\n",
              "  2: [(0.3333333333333333, 11, 0.0, False),\n",
              "   (0.3333333333333333, 7, 0.0, False),\n",
              "   (0.3333333333333333, 3, 0.0, False)],\n",
              "  3: [(0.3333333333333333, 7, 0.0, False),\n",
              "   (0.3333333333333333, 3, 0.0, False),\n",
              "   (0.3333333333333333, 6, 0.0, True)]},\n",
              " 8: {0: [(0.3333333333333333, 4, 0.0, False),\n",
              "   (0.3333333333333333, 8, 0.0, False),\n",
              "   (0.3333333333333333, 12, 0.0, False)],\n",
              "  1: [(0.3333333333333333, 8, 0.0, False),\n",
              "   (0.3333333333333333, 12, 0.0, False),\n",
              "   (0.3333333333333333, 9, 0.0, True)],\n",
              "  2: [(0.3333333333333333, 12, 0.0, False),\n",
              "   (0.3333333333333333, 9, 0.0, True),\n",
              "   (0.3333333333333333, 4, 0.0, False)],\n",
              "  3: [(0.3333333333333333, 9, 0.0, True),\n",
              "   (0.3333333333333333, 4, 0.0, False),\n",
              "   (0.3333333333333333, 8, 0.0, False)]},\n",
              " 9: {0: [(1.0, 9, 0, True)],\n",
              "  1: [(1.0, 9, 0, True)],\n",
              "  2: [(1.0, 9, 0, True)],\n",
              "  3: [(1.0, 9, 0, True)]},\n",
              " 10: {0: [(0.3333333333333333, 6, 0.0, True),\n",
              "   (0.3333333333333333, 9, 0.0, True),\n",
              "   (0.3333333333333333, 14, 0.0, False)],\n",
              "  1: [(0.3333333333333333, 9, 0.0, True),\n",
              "   (0.3333333333333333, 14, 0.0, False),\n",
              "   (0.3333333333333333, 11, 0.0, False)],\n",
              "  2: [(0.3333333333333333, 14, 0.0, False),\n",
              "   (0.3333333333333333, 11, 0.0, False),\n",
              "   (0.3333333333333333, 6, 0.0, True)],\n",
              "  3: [(0.3333333333333333, 11, 0.0, False),\n",
              "   (0.3333333333333333, 6, 0.0, True),\n",
              "   (0.3333333333333333, 9, 0.0, True)]},\n",
              " 11: {0: [(0.3333333333333333, 7, 0.0, False),\n",
              "   (0.3333333333333333, 10, 0.0, False),\n",
              "   (0.3333333333333333, 15, 0.0, False)],\n",
              "  1: [(0.3333333333333333, 10, 0.0, False),\n",
              "   (0.3333333333333333, 15, 0.0, False),\n",
              "   (0.3333333333333333, 11, 0.0, False)],\n",
              "  2: [(0.3333333333333333, 15, 0.0, False),\n",
              "   (0.3333333333333333, 11, 0.0, False),\n",
              "   (0.3333333333333333, 7, 0.0, False)],\n",
              "  3: [(0.3333333333333333, 11, 0.0, False),\n",
              "   (0.3333333333333333, 7, 0.0, False),\n",
              "   (0.3333333333333333, 10, 0.0, False)]},\n",
              " 12: {0: [(0.3333333333333333, 8, 0.0, False),\n",
              "   (0.3333333333333333, 12, 0.0, False),\n",
              "   (0.3333333333333333, 12, 0.0, False)],\n",
              "  1: [(0.3333333333333333, 12, 0.0, False),\n",
              "   (0.3333333333333333, 12, 0.0, False),\n",
              "   (0.3333333333333333, 13, 1.0, True)],\n",
              "  2: [(0.3333333333333333, 12, 0.0, False),\n",
              "   (0.3333333333333333, 13, 1.0, True),\n",
              "   (0.3333333333333333, 8, 0.0, False)],\n",
              "  3: [(0.3333333333333333, 13, 1.0, True),\n",
              "   (0.3333333333333333, 8, 0.0, False),\n",
              "   (0.3333333333333333, 12, 0.0, False)]},\n",
              " 13: {0: [(1.0, 13, 0, True)],\n",
              "  1: [(1.0, 13, 0, True)],\n",
              "  2: [(1.0, 13, 0, True)],\n",
              "  3: [(1.0, 13, 0, True)]},\n",
              " 14: {0: [(0.3333333333333333, 10, 0.0, False),\n",
              "   (0.3333333333333333, 13, 1.0, True),\n",
              "   (0.3333333333333333, 14, 0.0, False)],\n",
              "  1: [(0.3333333333333333, 13, 1.0, True),\n",
              "   (0.3333333333333333, 14, 0.0, False),\n",
              "   (0.3333333333333333, 15, 0.0, False)],\n",
              "  2: [(0.3333333333333333, 14, 0.0, False),\n",
              "   (0.3333333333333333, 15, 0.0, False),\n",
              "   (0.3333333333333333, 10, 0.0, False)],\n",
              "  3: [(0.3333333333333333, 15, 0.0, False),\n",
              "   (0.3333333333333333, 10, 0.0, False),\n",
              "   (0.3333333333333333, 13, 1.0, True)]},\n",
              " 15: {0: [(0.3333333333333333, 11, 0.0, False),\n",
              "   (0.3333333333333333, 14, 0.0, False),\n",
              "   (0.3333333333333333, 15, 0.0, False)],\n",
              "  1: [(0.3333333333333333, 14, 0.0, False),\n",
              "   (0.3333333333333333, 15, 0.0, False),\n",
              "   (0.3333333333333333, 15, 0.0, False)],\n",
              "  2: [(0.3333333333333333, 15, 0.0, False),\n",
              "   (0.3333333333333333, 15, 0.0, False),\n",
              "   (0.3333333333333333, 11, 0.0, False)],\n",
              "  3: [(0.3333333333333333, 15, 0.0, False),\n",
              "   (0.3333333333333333, 11, 0.0, False),\n",
              "   (0.3333333333333333, 14, 0.0, False)]}}"
            ]
          },
          "metadata": {},
          "execution_count": 19
        }
      ],
      "source": [
        "P\n"
      ]
    },
    {
      "cell_type": "code",
      "execution_count": 20,
      "metadata": {
        "id": "z26regM2hRr4"
      },
      "outputs": [],
      "source": [
        "def value_iteration(P, gamma=1.0, theta=1e-10):\n",
        "    V = np.zeros(len(P), dtype=np.float64)\n",
        "    while True:\n",
        "        Q = np.zeros((len(P), len(P[0])), dtype=np.float64)\n",
        "        for s in range(len(P)):\n",
        "            for a in range(len(P[s])):\n",
        "                for prob, next_state, reward, done in P[s][a]:\n",
        "                    Q[s][a] += prob * (reward+gamma*V[next_state]*(not done))\n",
        "        if np.max(np.abs(V-np.max(Q, axis=1))) < theta:\n",
        "            break\n",
        "        V = np.max(Q, axis=1)\n",
        "    pi= lambda s: {s:a for s, a in enumerate(np.argmax(Q, axis=1))}[s]\n",
        "\n",
        "    return V, pi"
      ]
    },
    {
      "cell_type": "code",
      "execution_count": 21,
      "metadata": {
        "id": "Z_sALBA5ifw7"
      },
      "outputs": [],
      "source": [
        "# Finding the optimal policy\n",
        "V_best_v, pi_best_v = value_iteration(P, gamma=0.99)\n"
      ]
    },
    {
      "cell_type": "code",
      "execution_count": 22,
      "metadata": {
        "colab": {
          "base_uri": "https://localhost:8080/"
        },
        "id": "udAM5jsTjRmz",
        "outputId": "a709c215-b4a5-476b-8edc-2c52aa38ba77"
      },
      "outputs": [
        {
          "output_type": "stream",
          "name": "stdout",
          "text": [
            "Name: THARUN D\n",
            "Register Number: 212223240167 \n",
            "Optimal policy and state-value function (VI):\n",
            "Policy:\n",
            "| 00      < | 01      ^ | 02      ^ | 03      > |\n",
            "| 04      < | 05      < |           | 07      > |\n",
            "| 08      < |           | 10      v | 11      > |\n",
            "| 12      v |           | 14      v | 15      v |\n"
          ]
        }
      ],
      "source": [
        "# Printing the policy\n",
        "print(\"Name: THARUN D\")\n",
        "print(\"Register Number: 212223240167 \")\n",
        "print('Optimal policy and state-value function (VI):')\n",
        "print_policy(pi_best_v, P)"
      ]
    },
    {
      "cell_type": "code",
      "execution_count": 24,
      "metadata": {
        "colab": {
          "base_uri": "https://localhost:8080/"
        },
        "id": "-xRip78ije2A",
        "outputId": "624c162a-39de-4302-bc12-26ac3045ae08"
      },
      "outputs": [
        {
          "output_type": "stream",
          "name": "stdout",
          "text": [
            "Reaches goal 99.00%. Obtains an average undiscounted return of 0.9900.\n"
          ]
        }
      ],
      "source": [
        "# printing the success rate and the mean return\n",
        "print('Reaches goal {:.2f}%. Obtains an average undiscounted return of {:.4f}.'.format(\n",
        "    probability_success(env, pi_best_v, goal_state=goal_state)*100,\n",
        "    mean_return(env, pi_best_v)))"
      ]
    },
    {
      "cell_type": "code",
      "execution_count": 25,
      "metadata": {
        "colab": {
          "base_uri": "https://localhost:8080/"
        },
        "id": "hIFmvAYDkG6G",
        "outputId": "d18ddf8a-6de9-43e0-a833-a4be8d51893c"
      },
      "outputs": [
        {
          "output_type": "stream",
          "name": "stdout",
          "text": [
            "State-value function:\n",
            "| 00 0.8263 | 01 0.7871 | 02 0.7717 | 03 0.7798 |\n",
            "| 04 0.8514 | 05 0.5407 |           | 07 0.8034 |\n",
            "| 08 0.9022 |           | 10 0.5955 | 11 0.8514 |\n",
            "| 12 0.9804 |           | 14 0.9532 | 15 0.9251 |\n"
          ]
        }
      ],
      "source": [
        "print_state_value_function(V_best_v, P, prec=4)"
      ]
    },
    {
      "cell_type": "code",
      "execution_count": null,
      "metadata": {
        "id": "CPW0YMDulvke"
      },
      "outputs": [],
      "source": []
    }
  ],
  "metadata": {
    "colab": {
      "provenance": []
    },
    "kernelspec": {
      "display_name": "Python 3",
      "name": "python3"
    },
    "language_info": {
      "name": "python"
    }
  },
  "nbformat": 4,
  "nbformat_minor": 0
}